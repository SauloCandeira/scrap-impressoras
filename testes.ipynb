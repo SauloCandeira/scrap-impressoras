{
 "cells": [],
 "metadata": {
  "kernelspec": {
   "name": "python3",
   "display_name": "Python 3.9.6 64-bit"
  },
  "language_info": {
   "codemirror_mode": {
    "name": "ipython",
    "version": 3
   },
   "file_extension": ".py",
   "mimetype": "text/x-python",
   "name": "python",
   "nbconvert_exporter": "python",
   "pygments_lexer": "ipython3",
   "version": "3.9.6"
  },
  "interpreter": {
   "hash": "b068ed34e08882765f10add0a52e993cc70691c2b6f27f35aa1dca1c7b0e4a39"
  }
 },
 "nbformat": 4,
 "nbformat_minor": 5
}